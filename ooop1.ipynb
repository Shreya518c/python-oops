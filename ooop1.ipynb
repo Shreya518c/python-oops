{
  "nbformat": 4,
  "nbformat_minor": 0,
  "metadata": {
    "colab": {
      "provenance": []
    },
    "kernelspec": {
      "name": "python3",
      "display_name": "Python 3"
    },
    "language_info": {
      "name": "python"
    }
  },
  "cells": [
    {
      "cell_type": "markdown",
      "source": [
        "THEORY\n",
        "\n",
        "1.What is Object-Oriented Programming (OOP)?\n",
        "\n",
        "--> OOP is a programming paradigm based on objects that contain data (attributes) and methods (functions). It helps organize code, improve reusability, and model real-world entities effectively."
      ],
      "metadata": {
        "id": "prxRJPuvVx_X"
      }
    },
    {
      "cell_type": "markdown",
      "source": [
        "2.What is a class in OOP?\n",
        "\n",
        "--> A class is a blueprint for creating objects. It defines attributes (variables) and methods (functions) that its objects will have.\n",
        "\n"
      ],
      "metadata": {
        "id": "thBHS84QWQQr"
      }
    },
    {
      "cell_type": "markdown",
      "source": [
        " 3 .What is an object in OOP?\n",
        "\n",
        "--> An object is an instance of a class. It represents a specific entity with defined attributes and behaviors."
      ],
      "metadata": {
        "id": "NbV4VqDReXl3"
      }
    },
    {
      "cell_type": "markdown",
      "source": [
        "4.Difference between abstraction and encapsulation?\n",
        "\n",
        "--> Abstraction hides implementation details and shows only essential features. Encapsulation binds data and methods together while restricting direct access.\n",
        "\n"
      ],
      "metadata": {
        "id": "0CUwhotIej95"
      }
    },
    {
      "cell_type": "markdown",
      "source": [],
      "metadata": {
        "id": "hMte7FGSetpc"
      }
    },
    {
      "cell_type": "markdown",
      "source": [
        "5.What are dunder methods in Python?\n",
        "\n",
        "--> Dunder (double underscore) methods are special methods like init, str, and add used to define object behavior.\n",
        "\n"
      ],
      "metadata": {
        "id": "8q0tk152et1Z"
      }
    },
    {
      "cell_type": "markdown",
      "source": [
        "6.What is polymorphism in OOPS?\n",
        "\n",
        "--> Polymorphism means same method name can work differently depending on the object (e.g., len() works on lists and strings).\n",
        "\n"
      ],
      "metadata": {
        "id": "3oyvPyoVe2gF"
      }
    },
    {
      "cell_type": "markdown",
      "source": [
        "7.How is encapsulation achieved in Python?\n",
        "\n",
        "--> Encapsulation is achieved using private (__var) and protected (_var) attributes with getter/setter methods."
      ],
      "metadata": {
        "id": "rrvEc5UffN6r"
      }
    },
    {
      "cell_type": "markdown",
      "source": [
        "8.What is a constructor in Python?\n",
        "\n",
        "--> A constructor (init) is a special method automatically called when an object is created to initialize its attributes."
      ],
      "metadata": {
        "id": "Pmo-YwGFfVEW"
      }
    },
    {
      "cell_type": "markdown",
      "source": [
        "9.What are class and static methods in Python?\n",
        "\n",
        "--> Class methods (@classmethod) work with the class itself, while static methods (@staticmethod) don’t depend on class or instance."
      ],
      "metadata": {
        "id": "6NxlSsrKfgop"
      }
    },
    {
      "cell_type": "markdown",
      "source": [
        "10.What is method overloading in Python?\n",
        "\n",
        "--->Python doesn’t support true method overloading but can achieve it using default arguments or *args.\n",
        "\n"
      ],
      "metadata": {
        "id": "FNYrHRCDfnvN"
      }
    },
    {
      "cell_type": "markdown",
      "source": [
        "11.What is method overriding in OOP?\n",
        "\n",
        "--> When a subclass provides its own implementation of a method already defined in the parent class, it’s overriding.\n",
        "\n"
      ],
      "metadata": {
        "id": "MpDYDAjqfwbQ"
      }
    },
    {
      "cell_type": "markdown",
      "source": [
        "\n",
        "12.What is a property decorator in Python?\n",
        "\n",
        "-->@property allows methods to be accessed like attributes, providing controlled access to private variables."
      ],
      "metadata": {
        "id": "KJYHKhP1f4X8"
      }
    },
    {
      "cell_type": "markdown",
      "source": [
        "13.Why is polymorphism important in OOP?\n",
        "\n",
        "-->It allows flexibility, reusability, and clean code by letting the same interface work for different data types."
      ],
      "metadata": {
        "id": "WaU747kMgS7W"
      }
    },
    {
      "cell_type": "markdown",
      "source": [
        "14.What is an abstract class in Python?\n",
        "\n",
        "-->Abstract classes (using abc module) cannot be instantiated and may contain abstract methods that must be defined in child classes.\n",
        "\n"
      ],
      "metadata": {
        "id": "j4E57eUxgePf"
      }
    },
    {
      "cell_type": "markdown",
      "source": [
        "15.What are the advantages of OOP?\n",
        "\n",
        "-->Code reusability, modularity, data security, easier debugging, and real-world modeling.\n",
        "\n"
      ],
      "metadata": {
        "id": "dRUDctnfgmj2"
      }
    },
    {
      "cell_type": "markdown",
      "source": [
        "16.Difference between class variable and instance variable?\n",
        "\n",
        "-->Class variables are shared by all objects, while instance variables are unique to each object"
      ],
      "metadata": {
        "id": "7pFxixMfgumi"
      }
    },
    {
      "cell_type": "markdown",
      "source": [
        "17.What is multiple inheritance in Python?\n",
        "\n",
        "-->A class can inherit from more than one parent class, combining their features.\n",
        "\n"
      ],
      "metadata": {
        "id": "RFZCU7nEhSWz"
      }
    },
    {
      "cell_type": "markdown",
      "source": [
        "18.Explain the purpose of ‘’str’ and ‘repr’ ‘ methods in Python.\n",
        "\n",
        "-->str returns a readable string for users, while repr returns an unambiguous developer-oriented representation."
      ],
      "metadata": {
        "id": "4ELPLUdnhoUA"
      }
    },
    {
      "cell_type": "markdown",
      "source": [
        "19.Significance of super() in Python?\n",
        "\n",
        "-->super() is used to call parent class methods/constructors inside a child class.\n",
        "\n"
      ],
      "metadata": {
        "id": "aUR-ccw0h1Z_"
      }
    },
    {
      "cell_type": "markdown",
      "source": [
        "20.Significance of del method in Python?\n",
        "\n",
        "-->It’s a destructor method called when an object is deleted to clean up resources.\n",
        "\n"
      ],
      "metadata": {
        "id": "1-0-EZbViHpt"
      }
    },
    {
      "cell_type": "markdown",
      "source": [
        "21.Difference between @staticmethod and @classmethod?\n",
        "\n",
        "-->@staticmethod doesn’t take self or cls, while @classmethod takes cls and works on the class.\n",
        "\n"
      ],
      "metadata": {
        "id": "7oHQ5oSBiU8Y"
      }
    },
    {
      "cell_type": "markdown",
      "source": [
        "22.How does polymorphism work in Python with inheritance?\n",
        "\n",
        "-->Parent class methods can be overridden by child classes, and the same method name can behave differently.\n",
        "\n"
      ],
      "metadata": {
        "id": "3R68ML7oiixV"
      }
    },
    {
      "cell_type": "markdown",
      "source": [
        "23.What is method chaining in Python OOP?\n",
        "\n",
        "-->It allows calling multiple methods on the same object in a single line by returning self.\n",
        "\n"
      ],
      "metadata": {
        "id": "jNyWPiRLiqI0"
      }
    },
    {
      "cell_type": "markdown",
      "source": [
        "24.What is the purpose of the call method in Python?\n",
        "\n",
        "-->It allows an object to be called like a function.\n",
        "\n"
      ],
      "metadata": {
        "id": "hrAes3YdiyeP"
      }
    },
    {
      "cell_type": "markdown",
      "source": [
        "25.Explain inheritance in OOP.\n",
        "\n",
        "-->Inheritance allows one class to acquire properties and methods of another class, promoting code reuse and hierarchy.\n",
        "\n"
      ],
      "metadata": {
        "id": "dYvgn-ATi7tJ"
      }
    },
    {
      "cell_type": "markdown",
      "source": [
        "PRACTICAL QUESTIONS\n"
      ],
      "metadata": {
        "id": "TQelkFs2jFtg"
      }
    },
    {
      "cell_type": "markdown",
      "source": [
        "1.Create a parent class Animal with a method speak() that prints a generic message. Create a child class Dog that overrides the speak() method to print \"Bark!\"."
      ],
      "metadata": {
        "id": "NrK-bUP3jc22"
      }
    },
    {
      "cell_type": "code",
      "source": [
        "class Animal:\n",
        "    def speak(self):\n",
        "        print(\"This is a generic animal sound.\")\n",
        "\n",
        "class Dog(Animal):\n",
        "    def speak(self):\n",
        "        print(\"Bark!\")\n",
        "\n",
        "dog = Dog()\n",
        "dog.speak()\n"
      ],
      "metadata": {
        "colab": {
          "base_uri": "https://localhost:8080/"
        },
        "id": "lL6PwIEnjh60",
        "outputId": "cc7f48da-1337-472d-85aa-65e812e0b5c8"
      },
      "execution_count": null,
      "outputs": [
        {
          "output_type": "stream",
          "name": "stdout",
          "text": [
            "Bark!\n"
          ]
        }
      ]
    },
    {
      "cell_type": "markdown",
      "source": [
        "2.Write a program to create an abstract class Shape with a method area(). Derive classes Circle and Rectangle from it and implement the area() method in both.\n"
      ],
      "metadata": {
        "id": "TpI7amOcjug5"
      }
    },
    {
      "cell_type": "code",
      "source": [
        "from abc import ABC, abstractmethod\n",
        "\n",
        "class Shape(ABC):\n",
        "    @abstractmethod\n",
        "    def area(self):\n",
        "        pass\n",
        "\n",
        "class Circle(Shape):\n",
        "    def __init__(self, radius):\n",
        "        self.radius = radius\n",
        "    def area(self):\n",
        "        return 3.14 * self.radius ** 2\n",
        "\n",
        "class Rectangle(Shape):\n",
        "    def __init__(self, l, w):\n",
        "        self.l, self.w = l, w\n",
        "    def area(self):\n",
        "        return self.l * self.w\n",
        "\n",
        "print(Circle(5).area())\n",
        "print(Rectangle(4, 6).area())\n"
      ],
      "metadata": {
        "colab": {
          "base_uri": "https://localhost:8080/"
        },
        "id": "4aJi9KrOj33Y",
        "outputId": "9216700d-7870-4fbe-c627-38ac97ea14a2"
      },
      "execution_count": null,
      "outputs": [
        {
          "output_type": "stream",
          "name": "stdout",
          "text": [
            "78.5\n",
            "24\n"
          ]
        }
      ]
    },
    {
      "cell_type": "markdown",
      "source": [
        "3.Implement a multi-level inheritance scenario where a class Vehicle has an attribute type. Derive a class Car and further derive a class ElectricCar that adds a battery attribute.\n"
      ],
      "metadata": {
        "id": "smuE9PDtkkrU"
      }
    },
    {
      "cell_type": "code",
      "source": [
        "class Vehicle:\n",
        "    def __init__(self, vtype):\n",
        "        self.vtype = vtype\n",
        "\n",
        "class Car(Vehicle):\n",
        "    def __init__(self, brand, vtype=\"Car\"):\n",
        "        super().__init__(vtype)\n",
        "        self.brand = brand\n",
        "\n",
        "class ElectricCar(Car):\n",
        "    def __init__(self, brand, battery):\n",
        "        super().__init__(brand)\n",
        "        self.battery = battery\n",
        "\n",
        "ecar = ElectricCar(\"Tesla\", \"100 kWh\")\n",
        "print(ecar.vtype, ecar.brand, ecar.battery)\n"
      ],
      "metadata": {
        "colab": {
          "base_uri": "https://localhost:8080/"
        },
        "id": "jqoySau1kvz8",
        "outputId": "a4cecb66-3bf2-4e27-be86-72cd89884641"
      },
      "execution_count": null,
      "outputs": [
        {
          "output_type": "stream",
          "name": "stdout",
          "text": [
            "Car Tesla 100 kWh\n"
          ]
        }
      ]
    },
    {
      "cell_type": "markdown",
      "source": [
        "4.Demonstrate polymorphism by creating a base class Bird with a method fly(). Create two derived classes Sparrow and Penguin that override the fly() method.\n"
      ],
      "metadata": {
        "id": "0nfWwcJvk4Vq"
      }
    },
    {
      "cell_type": "code",
      "source": [
        "class Bird:\n",
        "    def fly(self):\n",
        "        print(\"Some birds can fly.\")\n",
        "\n",
        "class Sparrow(Bird):\n",
        "    def fly(self):\n",
        "        print(\"Sparrow flies high!\")\n",
        "\n",
        "class Penguin(Bird):\n",
        "    def fly(self):\n",
        "        print(\"Penguins cannot fly.\")\n",
        "\n",
        "for bird in [Sparrow(), Penguin()]:\n",
        "    bird.fly()\n"
      ],
      "metadata": {
        "colab": {
          "base_uri": "https://localhost:8080/"
        },
        "id": "bnf8nqEulAN8",
        "outputId": "756eb81f-6abe-48d7-eb38-6fd3ed6c5b99"
      },
      "execution_count": null,
      "outputs": [
        {
          "output_type": "stream",
          "name": "stdout",
          "text": [
            "Sparrow flies high!\n",
            "Penguins cannot fly.\n"
          ]
        }
      ]
    },
    {
      "cell_type": "markdown",
      "source": [
        "5.Write a program to demonstrate encapsulation by creating a class BankAccount with private attributes balance and methods to deposit, withdraw, and check balance.\n"
      ],
      "metadata": {
        "id": "U7vSGNxtlIYa"
      }
    },
    {
      "cell_type": "code",
      "source": [
        "class BankAccount:\n",
        "    def __init__(self, balance=0):\n",
        "        self.__balance = balance\n",
        "\n",
        "    def deposit(self, amount):\n",
        "        self.__balance += amount\n",
        "\n",
        "    def withdraw(self, amount):\n",
        "        if amount <= self.__balance:\n",
        "            self.__balance -= amount\n",
        "        else:\n",
        "            print(\"Insufficient balance\")\n",
        "\n",
        "    def get_balance(self):\n",
        "        return self.__balance\n",
        "\n",
        "acc = BankAccount()\n",
        "acc.deposit(500)\n",
        "acc.withdraw(200)\n",
        "print(acc.get_balance())\n",
        "\n",
        "\n"
      ],
      "metadata": {
        "id": "uZ7fQ0vtlWqU",
        "outputId": "04e6442c-4614-415d-90ad-2a82677d1941",
        "colab": {
          "base_uri": "https://localhost:8080/"
        }
      },
      "execution_count": 1,
      "outputs": [
        {
          "output_type": "stream",
          "name": "stdout",
          "text": [
            "300\n"
          ]
        }
      ]
    },
    {
      "cell_type": "markdown",
      "source": [
        "6.Demonstrate runtime polymorphism using a method play() in a base class Instrument. Derive classes Guitar and Piano that implement their own version of play().\n",
        "\n"
      ],
      "metadata": {
        "id": "88Z92Gm8UIsn"
      }
    },
    {
      "cell_type": "code",
      "source": [
        "class Instrument:\n",
        "    def play(self):\n",
        "        print(\"Playing an instrument.\")\n",
        "\n",
        "class Guitar(Instrument):\n",
        "    def play(self):\n",
        "        print(\"Strumming the guitar!\")\n",
        "\n",
        "class Piano(Instrument):\n",
        "    def play(self):\n",
        "        print(\"Playing the piano!\")\n",
        "\n",
        "for inst in [Guitar(), Piano()]:\n",
        "    inst.play()\n"
      ],
      "metadata": {
        "colab": {
          "base_uri": "https://localhost:8080/"
        },
        "id": "Tqc38sbsUVA7",
        "outputId": "8fd95934-b126-4851-8a25-598d537c3684"
      },
      "execution_count": 2,
      "outputs": [
        {
          "output_type": "stream",
          "name": "stdout",
          "text": [
            "Strumming the guitar!\n",
            "Playing the piano!\n"
          ]
        }
      ]
    },
    {
      "cell_type": "markdown",
      "source": [
        "7.Create a class MathOperations with a class method add_numbers() to add two numbers and a static method subtract_numbers() to subtract two numbers.\n"
      ],
      "metadata": {
        "id": "SBRYW3QIUdWw"
      }
    },
    {
      "cell_type": "code",
      "source": [
        "class MathOperations:\n",
        "    @classmethod\n",
        "    def add_numbers(cls, a, b):\n",
        "        return a + b\n",
        "\n",
        "    @staticmethod\n",
        "    def subtract_numbers(a, b):\n",
        "        return a - b\n",
        "\n",
        "print(MathOperations.add_numbers(5, 3))\n",
        "print(MathOperations.subtract_numbers(10, 4))\n"
      ],
      "metadata": {
        "colab": {
          "base_uri": "https://localhost:8080/"
        },
        "id": "znN4YJ0rUftx",
        "outputId": "8a5b3120-b3d8-4271-a4d9-f60e9d73d87a"
      },
      "execution_count": 3,
      "outputs": [
        {
          "output_type": "stream",
          "name": "stdout",
          "text": [
            "8\n",
            "6\n"
          ]
        }
      ]
    },
    {
      "cell_type": "markdown",
      "source": [
        "8.Implement a class Person with a class method to count the total number of persons created.\n"
      ],
      "metadata": {
        "id": "wAVMyZUnUwqQ"
      }
    },
    {
      "cell_type": "code",
      "source": [
        "class Person:\n",
        "    count = 0\n",
        "\n",
        "    def __init__(self, name):\n",
        "        self.name = name\n",
        "        Person.count += 1\n",
        "\n",
        "    @classmethod\n",
        "    def total_persons(cls):\n",
        "        return cls.count\n",
        "\n",
        "p1 = Person(\"Alice\")\n",
        "p2 = Person(\"Bob\")\n",
        "print(\"Total Persons:\", Person.total_persons())\n",
        "\n",
        ""
      ],
      "metadata": {
        "colab": {
          "base_uri": "https://localhost:8080/"
        },
        "id": "_LeTTPvRU8Zf",
        "outputId": "faea746d-b835-4270-c709-1c0929a5cdfb"
      },
      "execution_count": 4,
      "outputs": [
        {
          "output_type": "stream",
          "name": "stdout",
          "text": [
            "Total Persons: 2\n"
          ]
        }
      ]
    },
    {
      "cell_type": "markdown",
      "source": [
        "9.Write a class Fraction with attributes numerator and denominator. Override the str method to display the fraction as \"numerator/denominator\".\n"
      ],
      "metadata": {
        "id": "OFfEUZTOVHxz"
      }
    },
    {
      "cell_type": "code",
      "source": [
        "class Fraction:\n",
        "    def __init__(self, numerator, denominator):\n",
        "        self.numerator = numerator\n",
        "        self.denominator = denominator\n",
        "\n",
        "    def __str__(self):\n",
        "        return f\"{self.numerator}/{self.denominator}\"\n",
        "\n",
        "f = Fraction(3, 4)\n",
        "print(f)\n"
      ],
      "metadata": {
        "colab": {
          "base_uri": "https://localhost:8080/"
        },
        "id": "RwFmTyDlVLEy",
        "outputId": "4451eaaa-f5fb-4d25-84fe-f30b32d5c04e"
      },
      "execution_count": 5,
      "outputs": [
        {
          "output_type": "stream",
          "name": "stdout",
          "text": [
            "3/4\n"
          ]
        }
      ]
    },
    {
      "cell_type": "markdown",
      "source": [
        "10.Demonstrate operator overloading by creating a class Vector and overriding the add method to add two vectors.\n"
      ],
      "metadata": {
        "id": "Zd5LKBpJVSrk"
      }
    },
    {
      "cell_type": "code",
      "source": [
        "class Vector:\n",
        "    def __init__(self, x, y):\n",
        "        self.x, self.y = x, y\n",
        "\n",
        "    def __add__(self, other):\n",
        "        return Vector(self.x + other.x, self.y + other.y)\n",
        "\n",
        "    def __str__(self):\n",
        "        return f\"({self.x}, {self.y})\"\n",
        "\n",
        "v1 = Vector(2, 3)\n",
        "v2 = Vector(4, 5)\n",
        "print(v1 + v2)\n"
      ],
      "metadata": {
        "colab": {
          "base_uri": "https://localhost:8080/"
        },
        "id": "uPgD86DnVZnD",
        "outputId": "efb3560a-b6e7-4bf8-ad32-e634ca780137"
      },
      "execution_count": 6,
      "outputs": [
        {
          "output_type": "stream",
          "name": "stdout",
          "text": [
            "(6, 8)\n"
          ]
        }
      ]
    },
    {
      "cell_type": "markdown",
      "source": [
        "11.Create a class Person with attributes name and age. Add a method greet() that prints \"Hello, my name is {name} and I am {age} years old.\""
      ],
      "metadata": {
        "id": "z-8jEtLeVokm"
      }
    },
    {
      "cell_type": "code",
      "source": [
        "class Person:\n",
        "    def __init__(self, name, age):\n",
        "        self.name, self.age = name, age\n",
        "\n",
        "    def greet(self):\n",
        "        print(f\"Hello, my name is {self.name} and I am {self.age} years old.\")\n",
        "\n",
        "p = Person(\"John\", 25)\n",
        "p.greet()"
      ],
      "metadata": {
        "colab": {
          "base_uri": "https://localhost:8080/"
        },
        "id": "9x6im04cVxNK",
        "outputId": "8d71004d-0ef6-4148-dd68-089bc8c310bb"
      },
      "execution_count": 7,
      "outputs": [
        {
          "output_type": "stream",
          "name": "stdout",
          "text": [
            "Hello, my name is John and I am 25 years old.\n"
          ]
        }
      ]
    },
    {
      "cell_type": "markdown",
      "source": [
        "12.Implement a class Student with attributes name and grades. Create a method average_grade() to compute the average of the grades.\n"
      ],
      "metadata": {
        "id": "VS_6FcOcWCo6"
      }
    },
    {
      "cell_type": "code",
      "source": [
        "class Student:\n",
        "    def __init__(self, name, grades):\n",
        "        self.name = name\n",
        "        self.grades = grades\n",
        "\n",
        "    def average_grade(self):\n",
        "        return sum(self.grades) / len(self.grades)\n",
        "\n",
        "s = Student(\"Alice\", [85, 90, 78])\n",
        "print(\"Average Grade:\", s.average_grade())\n"
      ],
      "metadata": {
        "colab": {
          "base_uri": "https://localhost:8080/"
        },
        "id": "l6n2fY7mWF8k",
        "outputId": "3d98900b-7ae0-4c8c-db1e-62b2cc44727e"
      },
      "execution_count": 8,
      "outputs": [
        {
          "output_type": "stream",
          "name": "stdout",
          "text": [
            "Average Grade: 84.33333333333333\n"
          ]
        }
      ]
    },
    {
      "cell_type": "markdown",
      "source": [
        "13.Create a class Rectangle with methods set_dimensions() to set the dimensions and area() to calculate the area.\n"
      ],
      "metadata": {
        "id": "IXZY3HXnW6q6"
      }
    },
    {
      "cell_type": "code",
      "source": [
        "class Rectangle:\n",
        "    def set_dimensions(self, length, width):\n",
        "        self.length, self.width = length, width\n",
        "\n",
        "    def area(self):\n",
        "        return self.length * self.width\n",
        "\n",
        "r = Rectangle()\n",
        "r.set_dimensions(5, 3)\n",
        "print(\"Area:\", r.area())\n"
      ],
      "metadata": {
        "colab": {
          "base_uri": "https://localhost:8080/"
        },
        "id": "QrOdGKp4XAeO",
        "outputId": "1a31e05b-3385-4f3f-83f7-823cac0c2df4"
      },
      "execution_count": 9,
      "outputs": [
        {
          "output_type": "stream",
          "name": "stdout",
          "text": [
            "Area: 15\n"
          ]
        }
      ]
    },
    {
      "cell_type": "markdown",
      "source": [
        "14.Create a class Employee with a method calculate_salary() that computes the salary based on hours worked and hourly rate. Create a derived class Manager that adds a bonus to the salary\n"
      ],
      "metadata": {
        "id": "hi4VvvRCXGdx"
      }
    },
    {
      "cell_type": "code",
      "source": [
        "class Employee:\n",
        "    def __init__(self, hours, rate):\n",
        "        self.hours, self.rate = hours, rate\n",
        "\n",
        "    def calculate_salary(self):\n",
        "        return self.hours * self.rate\n",
        "\n",
        "class Manager(Employee):\n",
        "    def __init__(self, hours, rate, bonus):\n",
        "        super().__init__(hours, rate)\n",
        "        self.bonus = bonus\n",
        "\n",
        "    def calculate_salary(self):\n",
        "        return super().calculate_salary() + self.bonus\n",
        "\n",
        "m = Manager(40, 20, 500)\n",
        "print(\"Manager Salary:\", m.calculate_salary())\n"
      ],
      "metadata": {
        "colab": {
          "base_uri": "https://localhost:8080/"
        },
        "id": "1tsXfEWoXUxx",
        "outputId": "a75f9736-9dc6-400d-dfd4-6384ea7809d7"
      },
      "execution_count": 10,
      "outputs": [
        {
          "output_type": "stream",
          "name": "stdout",
          "text": [
            "Manager Salary: 1300\n"
          ]
        }
      ]
    },
    {
      "cell_type": "markdown",
      "source": [
        "15.Create a class Product with attributes name, price, and quantity. Implement a method total_price() that calculates the total price of the product.\n"
      ],
      "metadata": {
        "id": "RA7c_SLfXipl"
      }
    },
    {
      "cell_type": "code",
      "source": [
        "class Product:\n",
        "    def __init__(self, name, price, quantity):\n",
        "        self.name, self.price, self.quantity = name, price, quantity\n",
        "\n",
        "    def total_price(self):\n",
        "        return self.price * self.quantity\n",
        "\n",
        "p = Product(\"Laptop\", 50000, 2)\n",
        "print(\"Total Price:\", p.total_price())\n"
      ],
      "metadata": {
        "colab": {
          "base_uri": "https://localhost:8080/"
        },
        "id": "T91OK-LbXp60",
        "outputId": "84613eb5-52d3-4256-e7ce-f9deae279c3f"
      },
      "execution_count": 11,
      "outputs": [
        {
          "output_type": "stream",
          "name": "stdout",
          "text": [
            "Total Price: 100000\n"
          ]
        }
      ]
    },
    {
      "cell_type": "markdown",
      "source": [
        "16.Create a class Animal with an abstract method sound(). Create two derived classes Cow and Sheep that implement the sound() method.\n"
      ],
      "metadata": {
        "id": "7Q4bwIR_X1YE"
      }
    },
    {
      "cell_type": "code",
      "source": [
        "from abc import ABC, abstractmethod\n",
        "\n",
        "class Animal(ABC):\n",
        "    @abstractmethod\n",
        "    def sound(self):\n",
        "        pass\n",
        "\n",
        "class Cow(Animal):\n",
        "    def sound(self):\n",
        "        return \"Moo\"\n",
        "\n",
        "class Sheep(Animal):\n",
        "    def sound(self):\n",
        "        return \"Baa\"\n",
        "\n",
        "for animal in [Cow(), Sheep()]:\n",
        "    print(animal.sound())\n"
      ],
      "metadata": {
        "colab": {
          "base_uri": "https://localhost:8080/"
        },
        "id": "RC9-XFozX7tN",
        "outputId": "94c3f9fa-98c5-419d-f8bf-8c0e936389ad"
      },
      "execution_count": 12,
      "outputs": [
        {
          "output_type": "stream",
          "name": "stdout",
          "text": [
            "Moo\n",
            "Baa\n"
          ]
        }
      ]
    },
    {
      "cell_type": "markdown",
      "source": [
        "17.Create a class Book with attributes title, author, and year_published. Add a method get_book_info() that returns a formatted string with the book's details.\n"
      ],
      "metadata": {
        "id": "3kirLNN3YDpI"
      }
    },
    {
      "cell_type": "code",
      "source": [
        "class Book:\n",
        "    def __init__(self, title, author, year):\n",
        "        self.title, self.author, self.year = title, author, year\n",
        "\n",
        "    def get_book_info(self):\n",
        "        return f\"{self.title} by {self.author}, published in {self.year}\"\n",
        "\n",
        "b = Book(\"1984\", \"George Orwell\", 1949)\n",
        "print(b.get_book_info())\n"
      ],
      "metadata": {
        "colab": {
          "base_uri": "https://localhost:8080/"
        },
        "id": "0VKzufmjYGKd",
        "outputId": "7a4cfbbd-1f70-48f0-c3cf-bcfb9f980881"
      },
      "execution_count": 13,
      "outputs": [
        {
          "output_type": "stream",
          "name": "stdout",
          "text": [
            "1984 by George Orwell, published in 1949\n"
          ]
        }
      ]
    },
    {
      "cell_type": "markdown",
      "source": [
        "18.Create a class House with attributes address and price. Create a derived class Mansion that adds an attribute number_of_rooms.\n"
      ],
      "metadata": {
        "id": "x1Fpn7rbYSOw"
      }
    },
    {
      "cell_type": "code",
      "source": [
        "class House:\n",
        "    def __init__(self, address, price):\n",
        "        self.address, self.price = address, price\n",
        "\n",
        "class Mansion(House):\n",
        "    def __init__(self, address, price, rooms):\n",
        "        super().__init__(address, price)\n",
        "        self.rooms = rooms\n",
        "\n",
        "m = Mansion(\"123 Street\", 500000, 10)\n",
        "print(m.address, m.price, m.rooms)\n",
        "\n"
      ],
      "metadata": {
        "colab": {
          "base_uri": "https://localhost:8080/"
        },
        "id": "Fo6-qseAYWhg",
        "outputId": "162d3f60-7e50-4c58-d624-8bff0631ec07"
      },
      "execution_count": 14,
      "outputs": [
        {
          "output_type": "stream",
          "name": "stdout",
          "text": [
            "123 Street 500000 10\n"
          ]
        }
      ]
    }
  ]
}